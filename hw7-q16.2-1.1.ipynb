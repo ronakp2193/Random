{
 "cells": [
  {
   "cell_type": "markdown",
   "metadata": {},
   "source": [
    "## Question 15.2\n",
    "### Part 1"
   ]
  },
  {
   "cell_type": "markdown",
   "metadata": {
    "collapsed": true
   },
   "source": [
    "To begin, we import the libraries to use and create a `pandas` `DataFrame` for the data to be used in this problem."
   ]
  },
  {
   "cell_type": "code",
   "execution_count": 1,
   "metadata": {},
   "outputs": [],
   "source": [
    "import numpy as np\n",
    "import pandas as pd\n",
    "from pulp import *\n",
    "import os\n",
    "\n",
    "path_data = os.path.join(\"..\", \"data-raw\", \"diet.xls\")"
   ]
  },
  {
   "cell_type": "code",
   "execution_count": 2,
   "metadata": {},
   "outputs": [
    {
     "data": {
      "text/html": [
       "<div>\n",
       "<style scoped>\n",
       "    .dataframe tbody tr th:only-of-type {\n",
       "        vertical-align: middle;\n",
       "    }\n",
       "\n",
       "    .dataframe tbody tr th {\n",
       "        vertical-align: top;\n",
       "    }\n",
       "\n",
       "    .dataframe thead th {\n",
       "        text-align: right;\n",
       "    }\n",
       "</style>\n",
       "<table border=\"1\" class=\"dataframe\">\n",
       "  <thead>\n",
       "    <tr style=\"text-align: right;\">\n",
       "      <th></th>\n",
       "      <th>Foods</th>\n",
       "      <th>Price/ Serving</th>\n",
       "      <th>Serving Size</th>\n",
       "      <th>Calories</th>\n",
       "      <th>Cholesterol mg</th>\n",
       "      <th>Total_Fat g</th>\n",
       "      <th>Sodium mg</th>\n",
       "      <th>Carbohydrates g</th>\n",
       "      <th>Dietary_Fiber g</th>\n",
       "      <th>Protein g</th>\n",
       "      <th>Vit_A IU</th>\n",
       "      <th>Vit_C IU</th>\n",
       "      <th>Calcium mg</th>\n",
       "      <th>Iron mg</th>\n",
       "    </tr>\n",
       "  </thead>\n",
       "  <tbody>\n",
       "    <tr>\n",
       "      <th>0</th>\n",
       "      <td>Frozen Broccoli</td>\n",
       "      <td>0.16</td>\n",
       "      <td>10 Oz Pkg</td>\n",
       "      <td>73.8</td>\n",
       "      <td>0.0</td>\n",
       "      <td>0.8</td>\n",
       "      <td>68.2</td>\n",
       "      <td>13.6</td>\n",
       "      <td>8.5</td>\n",
       "      <td>8.0</td>\n",
       "      <td>5867.4</td>\n",
       "      <td>160.2</td>\n",
       "      <td>159.0</td>\n",
       "      <td>2.3</td>\n",
       "    </tr>\n",
       "    <tr>\n",
       "      <th>1</th>\n",
       "      <td>Carrots,Raw</td>\n",
       "      <td>0.07</td>\n",
       "      <td>1/2 Cup Shredded</td>\n",
       "      <td>23.7</td>\n",
       "      <td>0.0</td>\n",
       "      <td>0.1</td>\n",
       "      <td>19.2</td>\n",
       "      <td>5.6</td>\n",
       "      <td>1.6</td>\n",
       "      <td>0.6</td>\n",
       "      <td>15471.0</td>\n",
       "      <td>5.1</td>\n",
       "      <td>14.9</td>\n",
       "      <td>0.3</td>\n",
       "    </tr>\n",
       "    <tr>\n",
       "      <th>2</th>\n",
       "      <td>Celery, Raw</td>\n",
       "      <td>0.04</td>\n",
       "      <td>1 Stalk</td>\n",
       "      <td>6.4</td>\n",
       "      <td>0.0</td>\n",
       "      <td>0.1</td>\n",
       "      <td>34.8</td>\n",
       "      <td>1.5</td>\n",
       "      <td>0.7</td>\n",
       "      <td>0.3</td>\n",
       "      <td>53.6</td>\n",
       "      <td>2.8</td>\n",
       "      <td>16.0</td>\n",
       "      <td>0.2</td>\n",
       "    </tr>\n",
       "    <tr>\n",
       "      <th>3</th>\n",
       "      <td>Frozen Corn</td>\n",
       "      <td>0.18</td>\n",
       "      <td>1/2 Cup</td>\n",
       "      <td>72.2</td>\n",
       "      <td>0.0</td>\n",
       "      <td>0.6</td>\n",
       "      <td>2.5</td>\n",
       "      <td>17.1</td>\n",
       "      <td>2.0</td>\n",
       "      <td>2.5</td>\n",
       "      <td>106.6</td>\n",
       "      <td>5.2</td>\n",
       "      <td>3.3</td>\n",
       "      <td>0.3</td>\n",
       "    </tr>\n",
       "    <tr>\n",
       "      <th>4</th>\n",
       "      <td>Lettuce,Iceberg,Raw</td>\n",
       "      <td>0.02</td>\n",
       "      <td>1 Leaf</td>\n",
       "      <td>2.6</td>\n",
       "      <td>0.0</td>\n",
       "      <td>0.0</td>\n",
       "      <td>1.8</td>\n",
       "      <td>0.4</td>\n",
       "      <td>0.3</td>\n",
       "      <td>0.2</td>\n",
       "      <td>66.0</td>\n",
       "      <td>0.8</td>\n",
       "      <td>3.8</td>\n",
       "      <td>0.1</td>\n",
       "    </tr>\n",
       "  </tbody>\n",
       "</table>\n",
       "</div>"
      ],
      "text/plain": [
       "                 Foods  Price/ Serving      Serving Size  Calories  \\\n",
       "0      Frozen Broccoli            0.16         10 Oz Pkg      73.8   \n",
       "1          Carrots,Raw            0.07  1/2 Cup Shredded      23.7   \n",
       "2          Celery, Raw            0.04           1 Stalk       6.4   \n",
       "3          Frozen Corn            0.18           1/2 Cup      72.2   \n",
       "4  Lettuce,Iceberg,Raw            0.02            1 Leaf       2.6   \n",
       "\n",
       "   Cholesterol mg  Total_Fat g  Sodium mg  Carbohydrates g  Dietary_Fiber g  \\\n",
       "0             0.0          0.8       68.2             13.6              8.5   \n",
       "1             0.0          0.1       19.2              5.6              1.6   \n",
       "2             0.0          0.1       34.8              1.5              0.7   \n",
       "3             0.0          0.6        2.5             17.1              2.0   \n",
       "4             0.0          0.0        1.8              0.4              0.3   \n",
       "\n",
       "   Protein g  Vit_A IU  Vit_C IU  Calcium mg  Iron mg  \n",
       "0        8.0    5867.4     160.2       159.0      2.3  \n",
       "1        0.6   15471.0       5.1        14.9      0.3  \n",
       "2        0.3      53.6       2.8        16.0      0.2  \n",
       "3        2.5     106.6       5.2         3.3      0.3  \n",
       "4        0.2      66.0       0.8         3.8      0.1  "
      ]
     },
     "execution_count": 2,
     "metadata": {},
     "output_type": "execute_result"
    }
   ],
   "source": [
    "df_raw = pd.read_excel(path_data)\n",
    "\n",
    "# Removing the rows with the min max constraints.\n",
    "df = df_raw[np.isfinite(df_raw[\"Price/ Serving\"])]\n",
    "\n",
    "# Experimenting with renaming columns.\n",
    "# df.columns = df.columns.str.strip().str.lower().str.replace(\"/ \", \"per\").str.replace(\" \", \"_\")\n",
    "\n",
    "# Viewing the data\n",
    "df.head()"
   ]
  },
  {
   "cell_type": "code",
   "execution_count": 3,
   "metadata": {},
   "outputs": [
    {
     "data": {
      "text/html": [
       "<div>\n",
       "<style scoped>\n",
       "    .dataframe tbody tr th:only-of-type {\n",
       "        vertical-align: middle;\n",
       "    }\n",
       "\n",
       "    .dataframe tbody tr th {\n",
       "        vertical-align: top;\n",
       "    }\n",
       "\n",
       "    .dataframe thead th {\n",
       "        text-align: right;\n",
       "    }\n",
       "</style>\n",
       "<table border=\"1\" class=\"dataframe\">\n",
       "  <thead>\n",
       "    <tr style=\"text-align: right;\">\n",
       "      <th></th>\n",
       "      <th>Foods</th>\n",
       "      <th>Price/ Serving</th>\n",
       "      <th>Serving Size</th>\n",
       "      <th>Calories</th>\n",
       "      <th>Cholesterol mg</th>\n",
       "      <th>Total_Fat g</th>\n",
       "      <th>Sodium mg</th>\n",
       "      <th>Carbohydrates g</th>\n",
       "      <th>Dietary_Fiber g</th>\n",
       "      <th>Protein g</th>\n",
       "      <th>Vit_A IU</th>\n",
       "      <th>Vit_C IU</th>\n",
       "      <th>Calcium mg</th>\n",
       "      <th>Iron mg</th>\n",
       "    </tr>\n",
       "  </thead>\n",
       "  <tbody>\n",
       "    <tr>\n",
       "      <th>59</th>\n",
       "      <td>Neweng Clamchwd</td>\n",
       "      <td>0.75</td>\n",
       "      <td>1 C (8 Fl Oz)</td>\n",
       "      <td>175.7</td>\n",
       "      <td>10.0</td>\n",
       "      <td>5.0</td>\n",
       "      <td>1864.9</td>\n",
       "      <td>21.8</td>\n",
       "      <td>1.5</td>\n",
       "      <td>10.9</td>\n",
       "      <td>20.1</td>\n",
       "      <td>4.8</td>\n",
       "      <td>82.8</td>\n",
       "      <td>2.8</td>\n",
       "    </tr>\n",
       "    <tr>\n",
       "      <th>60</th>\n",
       "      <td>Tomato Soup</td>\n",
       "      <td>0.39</td>\n",
       "      <td>1 C (8 Fl Oz)</td>\n",
       "      <td>170.7</td>\n",
       "      <td>0.0</td>\n",
       "      <td>3.8</td>\n",
       "      <td>1744.4</td>\n",
       "      <td>33.2</td>\n",
       "      <td>1.0</td>\n",
       "      <td>4.1</td>\n",
       "      <td>1393.0</td>\n",
       "      <td>133.0</td>\n",
       "      <td>27.6</td>\n",
       "      <td>3.5</td>\n",
       "    </tr>\n",
       "    <tr>\n",
       "      <th>61</th>\n",
       "      <td>New E Clamchwd,W/Mlk</td>\n",
       "      <td>0.99</td>\n",
       "      <td>1 C (8 Fl Oz)</td>\n",
       "      <td>163.7</td>\n",
       "      <td>22.3</td>\n",
       "      <td>6.6</td>\n",
       "      <td>992.0</td>\n",
       "      <td>16.6</td>\n",
       "      <td>1.5</td>\n",
       "      <td>9.5</td>\n",
       "      <td>163.7</td>\n",
       "      <td>3.5</td>\n",
       "      <td>186.0</td>\n",
       "      <td>1.5</td>\n",
       "    </tr>\n",
       "    <tr>\n",
       "      <th>62</th>\n",
       "      <td>Crm Mshrm Soup,W/Mlk</td>\n",
       "      <td>0.65</td>\n",
       "      <td>1 C (8 Fl Oz)</td>\n",
       "      <td>203.4</td>\n",
       "      <td>19.8</td>\n",
       "      <td>13.6</td>\n",
       "      <td>1076.3</td>\n",
       "      <td>15.0</td>\n",
       "      <td>0.5</td>\n",
       "      <td>6.1</td>\n",
       "      <td>153.8</td>\n",
       "      <td>2.2</td>\n",
       "      <td>178.6</td>\n",
       "      <td>0.6</td>\n",
       "    </tr>\n",
       "    <tr>\n",
       "      <th>63</th>\n",
       "      <td>Beanbacn Soup,W/Watr</td>\n",
       "      <td>0.67</td>\n",
       "      <td>1 C (8 Fl Oz)</td>\n",
       "      <td>172.0</td>\n",
       "      <td>2.5</td>\n",
       "      <td>5.9</td>\n",
       "      <td>951.3</td>\n",
       "      <td>22.8</td>\n",
       "      <td>8.6</td>\n",
       "      <td>7.9</td>\n",
       "      <td>888.0</td>\n",
       "      <td>1.5</td>\n",
       "      <td>81.0</td>\n",
       "      <td>2.0</td>\n",
       "    </tr>\n",
       "  </tbody>\n",
       "</table>\n",
       "</div>"
      ],
      "text/plain": [
       "                   Foods  Price/ Serving   Serving Size  Calories  \\\n",
       "59       Neweng Clamchwd            0.75  1 C (8 Fl Oz)     175.7   \n",
       "60           Tomato Soup            0.39  1 C (8 Fl Oz)     170.7   \n",
       "61  New E Clamchwd,W/Mlk            0.99  1 C (8 Fl Oz)     163.7   \n",
       "62  Crm Mshrm Soup,W/Mlk            0.65  1 C (8 Fl Oz)     203.4   \n",
       "63  Beanbacn Soup,W/Watr            0.67  1 C (8 Fl Oz)     172.0   \n",
       "\n",
       "    Cholesterol mg  Total_Fat g  Sodium mg  Carbohydrates g  Dietary_Fiber g  \\\n",
       "59            10.0          5.0     1864.9             21.8              1.5   \n",
       "60             0.0          3.8     1744.4             33.2              1.0   \n",
       "61            22.3          6.6      992.0             16.6              1.5   \n",
       "62            19.8         13.6     1076.3             15.0              0.5   \n",
       "63             2.5          5.9      951.3             22.8              8.6   \n",
       "\n",
       "    Protein g  Vit_A IU  Vit_C IU  Calcium mg  Iron mg  \n",
       "59       10.9      20.1       4.8        82.8      2.8  \n",
       "60        4.1    1393.0     133.0        27.6      3.5  \n",
       "61        9.5     163.7       3.5       186.0      1.5  \n",
       "62        6.1     153.8       2.2       178.6      0.6  \n",
       "63        7.9     888.0       1.5        81.0      2.0  "
      ]
     },
     "execution_count": 3,
     "metadata": {},
     "output_type": "execute_result"
    }
   ],
   "source": [
    "df.tail()"
   ]
  },
  {
   "cell_type": "markdown",
   "metadata": {},
   "source": [
    "Now I create `list` for the foods, and a `dict` for each column in the data with a constraint to be met for the optimization problem. (Admittedly, this is not the most elegant code. Also, note that these values could be imported directly from the last several rows from the .xls file with the rest of the data; nonetheless, I choose to simply \"hard-code\" the values here.)"
   ]
  },
  {
   "cell_type": "code",
   "execution_count": 4,
   "metadata": {},
   "outputs": [
    {
     "data": {
      "text/html": [
       "<div>\n",
       "<style scoped>\n",
       "    .dataframe tbody tr th:only-of-type {\n",
       "        vertical-align: middle;\n",
       "    }\n",
       "\n",
       "    .dataframe tbody tr th {\n",
       "        vertical-align: top;\n",
       "    }\n",
       "\n",
       "    .dataframe thead th {\n",
       "        text-align: right;\n",
       "    }\n",
       "</style>\n",
       "<table border=\"1\" class=\"dataframe\">\n",
       "  <thead>\n",
       "    <tr style=\"text-align: right;\">\n",
       "      <th></th>\n",
       "      <th>Calories</th>\n",
       "      <th>Cholesterol mg</th>\n",
       "      <th>Total_Fat g</th>\n",
       "      <th>Sodium mg</th>\n",
       "      <th>Carbohydrates g</th>\n",
       "      <th>Dietary_Fiber g</th>\n",
       "      <th>Protein g</th>\n",
       "      <th>Vit_A IU</th>\n",
       "      <th>Vit_C IU</th>\n",
       "      <th>Calcium mg</th>\n",
       "      <th>Iron mg</th>\n",
       "    </tr>\n",
       "  </thead>\n",
       "  <tbody>\n",
       "    <tr>\n",
       "      <th>65</th>\n",
       "      <td>1500.0</td>\n",
       "      <td>30.0</td>\n",
       "      <td>20.0</td>\n",
       "      <td>800.0</td>\n",
       "      <td>130.0</td>\n",
       "      <td>125.0</td>\n",
       "      <td>60.0</td>\n",
       "      <td>1000.0</td>\n",
       "      <td>400.0</td>\n",
       "      <td>700.0</td>\n",
       "      <td>10.0</td>\n",
       "    </tr>\n",
       "    <tr>\n",
       "      <th>66</th>\n",
       "      <td>2500.0</td>\n",
       "      <td>240.0</td>\n",
       "      <td>70.0</td>\n",
       "      <td>2000.0</td>\n",
       "      <td>450.0</td>\n",
       "      <td>250.0</td>\n",
       "      <td>100.0</td>\n",
       "      <td>10000.0</td>\n",
       "      <td>5000.0</td>\n",
       "      <td>1500.0</td>\n",
       "      <td>40.0</td>\n",
       "    </tr>\n",
       "  </tbody>\n",
       "</table>\n",
       "</div>"
      ],
      "text/plain": [
       "    Calories  Cholesterol mg  Total_Fat g  Sodium mg  Carbohydrates g  \\\n",
       "65    1500.0            30.0         20.0      800.0            130.0   \n",
       "66    2500.0           240.0         70.0     2000.0            450.0   \n",
       "\n",
       "    Dietary_Fiber g  Protein g  Vit_A IU  Vit_C IU  Calcium mg  Iron mg  \n",
       "65            125.0       60.0    1000.0     400.0       700.0     10.0  \n",
       "66            250.0      100.0   10000.0    5000.0      1500.0     40.0  "
      ]
     },
     "execution_count": 4,
     "metadata": {},
     "output_type": "execute_result"
    }
   ],
   "source": [
    "# Peeking at the constraints to hardcode.\n",
    "constr = df_raw[-2:].drop([\"Foods\", \"Price/ Serving\",\n",
    "                           \"Serving Size\"], axis=\"columns\")\n",
    "constr"
   ]
  },
  {
   "cell_type": "code",
   "execution_count": 5,
   "metadata": {},
   "outputs": [],
   "source": [
    "food = df[\"Foods\"].tolist()\n",
    "\n",
    "# Note that it's faster to convert with Series() and to_dict()\n",
    "# Reference: https://stackoverflow.com/questions/17426292/what-is-the-most-efficient-way-to-create-a-dictionary-of-two-pandas-dataframe-co/34004356\n",
    "# cost = dict(zip(df[\"Foods\"], df[\"Price/ Serving\"]))\n",
    "cost = pd.Series(df[\"Price/ Serving\"].values, index=df[\"Foods\"]).to_dict()\n",
    "cal = pd.Series(df[\"Calories\"].values, index=df[\"Foods\"]).to_dict()\n",
    "chol = pd.Series(df[\"Cholesterol mg\"].values, index=df[\"Foods\"]).to_dict()\n",
    "fat = pd.Series(df[\"Total_Fat g\"].values, index=df[\"Foods\"]).to_dict()\n",
    "sodium = pd.Series(df[\"Sodium mg\"].values, index=df[\"Foods\"]).to_dict()\n",
    "carb = pd.Series(df[\"Carbohydrates g\"].values, index=df[\"Foods\"]).to_dict()\n",
    "fiber = pd.Series(df[\"Dietary_Fiber g\"].values, index=df[\"Foods\"]).to_dict()\n",
    "protein = pd.Series(df[\"Protein g\"].values, index=df[\"Foods\"]).to_dict()\n",
    "vita = pd.Series(df[\"Vit_A IU\"].values, index=df[\"Foods\"]).to_dict()\n",
    "vitc = pd.Series(df[\"Vit_C IU\"].values, index=df[\"Foods\"]).to_dict()\n",
    "calcium = pd.Series(df[\"Calcium mg\"].values, index=df[\"Foods\"]).to_dict()\n",
    "iron = pd.Series(df[\"Iron mg\"].values, index=df[\"Foods\"]).to_dict()"
   ]
  },
  {
   "cell_type": "code",
   "execution_count": 6,
   "metadata": {},
   "outputs": [
    {
     "data": {
      "text/plain": [
       "{'Apple Pie': 0.16,\n",
       " 'Beanbacn Soup,W/Watr': 0.67,\n",
       " 'Kiwifruit,Raw,Fresh': 0.49,\n",
       " 'Popcorn,Air-Popped': 0.04,\n",
       " 'Pretzels': 0.12}"
      ]
     },
     "execution_count": 6,
     "metadata": {},
     "output_type": "execute_result"
    }
   ],
   "source": [
    "# Reviewing what one of the `dict`s looks like.\n",
    "# Reference: https://stackoverflow.com/questions/7971618/python-return-first-n-keyvalue-pairs-from-dict\n",
    "{k: cost[k] for k in list(cost)[:5]}"
   ]
  },
  {
   "cell_type": "markdown",
   "metadata": {},
   "source": [
    "Next, I setup the problem and use Pulp's `solve()` function to do the optimization. As noted by the TA, this problem is very similar to the \"blender\" problem in the PulP documentation, hence there is not much to explain. (See https://pythonhosted.org/PuLP/CaseStudies/a_blending_problem.html#full-formulation.)"
   ]
  },
  {
   "cell_type": "code",
   "execution_count": 7,
   "metadata": {},
   "outputs": [],
   "source": [
    "# Defining the \"problem\".\n",
    "prob1 = LpProblem(\"part 1\", LpMinimize)"
   ]
  },
  {
   "cell_type": "code",
   "execution_count": 8,
   "metadata": {},
   "outputs": [],
   "source": [
    "# Creating a `dict` to store the reference variables.\n",
    "food_vars = LpVariable.dicts(\"food\", food, 0)"
   ]
  },
  {
   "cell_type": "code",
   "execution_count": 9,
   "metadata": {},
   "outputs": [],
   "source": [
    "# Defining the objective function.\n",
    "prob1 += lpSum([cost[i] * food_vars[i]\n",
    "                for i in food]), \"total cost of food per person\""
   ]
  },
  {
   "cell_type": "code",
   "execution_count": 10,
   "metadata": {},
   "outputs": [],
   "source": [
    "# The constraints for calories and each macro/micro-nutrient.\n",
    "prob1 += lpSum([cal[i] * food_vars[i] for i in food]) >= 1500, \"min cal\"\n",
    "prob1 += lpSum([cal[i] * food_vars[i] for i in food]) <= 2500, \"max cal\"\n",
    "prob1 += lpSum([chol[i] * food_vars[i] for i in food]) >= 30, \"min chol\"\n",
    "prob1 += lpSum([chol[i] * food_vars[i] for i in food]) <= 240, \"max chol\"\n",
    "prob1 += lpSum([fat[i] * food_vars[i] for i in food]) >= 20, \"min fat\"\n",
    "prob1 += lpSum([fat[i] * food_vars[i] for i in food]) <= 70, \"max fat\"\n",
    "prob1 += lpSum([sodium[i] * food_vars[i] for i in food]) >= 800, \"min sodium\"\n",
    "prob1 += lpSum([sodium[i] * food_vars[i] for i in food]) <= 2000, \"max sodium\"\n",
    "prob1 += lpSum([carb[i] * food_vars[i] for i in food]) >= 130, \"min carb\"\n",
    "prob1 += lpSum([carb[i] * food_vars[i] for i in food]) <= 450, \"max carb\"\n",
    "prob1 += lpSum([fiber[i] * food_vars[i] for i in food]) >= 125, \"min fiber\"\n",
    "prob1 += lpSum([fiber[i] * food_vars[i] for i in food]) <= 250, \"max fiber\"\n",
    "prob1 += lpSum([protein[i] * food_vars[i] for i in food]) >= 60, \"min protein\"\n",
    "prob1 += lpSum([protein[i] * food_vars[i] for i in food]) <= 100, \"max protein\"\n",
    "prob1 += lpSum([vita[i] * food_vars[i] for i in food]) >= 1000, \"min vita\"\n",
    "prob1 += lpSum([vita[i] * food_vars[i] for i in food]) <= 10000, \"max vita\"\n",
    "prob1 += lpSum([vitc[i] * food_vars[i] for i in food]) >= 400, \"min vitc\"\n",
    "prob1 += lpSum([vitc[i] * food_vars[i] for i in food]) <= 5000, \"max vitc\"\n",
    "prob1 += lpSum([calcium[i] * food_vars[i] for i in food]) >= 700, \"min calcium\"\n",
    "prob1 += lpSum([calcium[i] * food_vars[i]\n",
    "                for i in food]) <= 1500, \"max calcium\"\n",
    "prob1 += lpSum([iron[i] * food_vars[i] for i in food]) >= 10, \"min iron\"\n",
    "prob1 += lpSum([iron[i] * food_vars[i] for i in food]) <= 40, \"max iron\""
   ]
  },
  {
   "cell_type": "code",
   "execution_count": 11,
   "metadata": {},
   "outputs": [
    {
     "data": {
      "text/plain": [
       "1"
      ]
     },
     "execution_count": 11,
     "metadata": {},
     "output_type": "execute_result"
    }
   ],
   "source": [
    "# Solving.\n",
    "prob1.solve()"
   ]
  },
  {
   "cell_type": "code",
   "execution_count": 12,
   "metadata": {},
   "outputs": [
    {
     "name": "stdout",
     "output_type": "stream",
     "text": [
      "status: Optimal\n"
     ]
    }
   ],
   "source": [
    "# Interpreting the status code.\n",
    "print(\"status:\", LpStatus[prob1.status])"
   ]
  },
  {
   "cell_type": "code",
   "execution_count": 13,
   "metadata": {},
   "outputs": [
    {
     "name": "stdout",
     "output_type": "stream",
     "text": [
      "52.64 units of Celery,_Raw\n",
      "0.26 units of Frozen_Broccoli\n",
      "63.99 units of Lettuce,Iceberg,Raw\n",
      "2.29 units of Oranges\n",
      "0.14 units of Poached_Eggs\n",
      "13.87 units of Popcorn,Air_Popped\n"
     ]
    }
   ],
   "source": [
    "# Reviewing the variables with non-zero optimum values.\n",
    "for var in prob1.variables():\n",
    "    if var.varValue > 0:\n",
    "        # print(str(var.varValue) + \" units of \" + str(var).replace(\"food_\", \"\"))\n",
    "        # Or...\n",
    "        print(\"%.2f units of %s\" %\n",
    "              (var.varValue, str(var).replace(\"food_\", \"\")))"
   ]
  },
  {
   "cell_type": "code",
   "execution_count": 14,
   "metadata": {},
   "outputs": [
    {
     "name": "stdout",
     "output_type": "stream",
     "text": [
      "total cost per person = $4.34\n"
     ]
    }
   ],
   "source": [
    "# Reviewing the optimized objective function value.\n",
    "print(\"total cost per person = $%.2f\" % value(prob1.objective))"
   ]
  },
  {
   "cell_type": "markdown",
   "metadata": {},
   "source": [
    "It looks like I calculate the values that I should find, per the homework instructions."
   ]
  },
  {
   "cell_type": "markdown",
   "metadata": {},
   "source": [
    "### Part 2"
   ]
  },
  {
   "cell_type": "markdown",
   "metadata": {
    "collapsed": true
   },
   "source": [
    "This part adds a couple of constraints to the part 1 problem. Notably, a set of binary variables are needed to indicate whether or not a food is chosen (as suggested by the hint).\n",
    "\n",
    "A couple of notes about the implementation:\n",
    "+ A maximum serving size of `1000000` is used, even though the instructions don't explicity call for this. (Setting a maximum is simply good practice when also setting a minimum. Additionally, note that optimization solver doesn't \"understand\" the problem beyond what the user specifies, so it can calculate unreasonable values (e.g. a negative serving size) if minimums/maximums are not properly specified.)\n",
    "+ The choice of foods to include for criteria \"c\" (regarding meat/poultry/fish/eggs) is a bit ambiguous, as noted by the homework instructions. I choose NOT to include foods involving soups.\n",
    "    \n",
    "Aside from these caveats, the implementation is very similar to that of part 1, so my comments here are focused on comparisons with the previous set-up."
   ]
  },
  {
   "cell_type": "code",
   "execution_count": 15,
   "metadata": {},
   "outputs": [],
   "source": [
    "# The same libraries and data are needed (so there is no need to re-import them).\n",
    "# Skip straight to describing the problem.\n",
    "prob2 = LpProblem(\"part 2\", LpMinimize)"
   ]
  },
  {
   "cell_type": "code",
   "execution_count": 16,
   "metadata": {},
   "outputs": [],
   "source": [
    "# The same dict of reference values as before.\n",
    "food_vars = LpVariable.dicts(\"food\", food, 0)"
   ]
  },
  {
   "cell_type": "code",
   "execution_count": 17,
   "metadata": {},
   "outputs": [],
   "source": [
    "# A new set of variables used to indicate whether or not a food is chosen.\n",
    "choice_vars = LpVariable.dicts(\"choice\", food, 0, 1, \"Binary\")\n",
    "# Or...\n",
    "# choice_vars = LpVariable.dicts(\"choice\", food, 0, 1, cat=LpInteger)"
   ]
  },
  {
   "cell_type": "code",
   "execution_count": 18,
   "metadata": {},
   "outputs": [],
   "source": [
    "# The same objective function as before.\n",
    "prob2 += lpSum([cost[i] * food_vars[i]\n",
    "                for i in food]), \"total cost of food per person\""
   ]
  },
  {
   "cell_type": "code",
   "execution_count": 19,
   "metadata": {},
   "outputs": [],
   "source": [
    "# The same 22 constraints as before, hard-coded again.\n",
    "prob2 += lpSum([cal[i] * food_vars[i] for i in food]) >= 1500, \"min cal\"\n",
    "prob2 += lpSum([cal[i] * food_vars[i] for i in food]) <= 2500, \"max cal\"\n",
    "prob2 += lpSum([chol[i] * food_vars[i] for i in food]) >= 30, \"min chol\"\n",
    "prob2 += lpSum([chol[i] * food_vars[i] for i in food]) <= 240, \"max chol\"\n",
    "prob2 += lpSum([fat[i] * food_vars[i] for i in food]) >= 20, \"min fat\"\n",
    "prob2 += lpSum([fat[i] * food_vars[i] for i in food]) <= 70, \"max fat\"\n",
    "prob2 += lpSum([sodium[i] * food_vars[i] for i in food]) >= 800, \"min sodium\"\n",
    "prob2 += lpSum([sodium[i] * food_vars[i] for i in food]) <= 2000, \"max sodium\"\n",
    "prob2 += lpSum([carb[i] * food_vars[i] for i in food]) >= 130, \"min carb\"\n",
    "prob2 += lpSum([carb[i] * food_vars[i] for i in food]) <= 450, \"max carb\"\n",
    "prob2 += lpSum([fiber[i] * food_vars[i] for i in food]) >= 125, \"min fiber\"\n",
    "prob2 += lpSum([fiber[i] * food_vars[i] for i in food]) <= 250, \"max fiber\"\n",
    "prob2 += lpSum([protein[i] * food_vars[i] for i in food]) >= 60, \"min protein\"\n",
    "prob2 += lpSum([protein[i] * food_vars[i] for i in food]) <= 100, \"max protein\"\n",
    "prob2 += lpSum([vita[i] * food_vars[i] for i in food]) >= 1000, \"min vita\"\n",
    "prob2 += lpSum([vita[i] * food_vars[i] for i in food]) <= 10000, \"max vita\"\n",
    "prob2 += lpSum([vitc[i] * food_vars[i] for i in food]) >= 400, \"min vitc\"\n",
    "prob2 += lpSum([vitc[i] * food_vars[i] for i in food]) <= 5000, \"max vitc\"\n",
    "prob2 += lpSum([calcium[i] * food_vars[i] for i in food]) >= 700, \"min calcium\"\n",
    "prob2 += lpSum([calcium[i] * food_vars[i]\n",
    "                for i in food]) <= 1500, \"max calcium\"\n",
    "prob2 += lpSum([iron[i] * food_vars[i] for i in food]) >= 10, \"min iron\"\n",
    "prob2 += lpSum([iron[i] * food_vars[i] for i in food]) <= 40, \"max iron\""
   ]
  },
  {
   "cell_type": "code",
   "execution_count": 20,
   "metadata": {},
   "outputs": [],
   "source": [
    "# a constraints\n",
    "for f in food:\n",
    "    prob2 += food_vars[f] <= 1000000 * \\\n",
    "        choice_vars[f], \"max serving size, %s\" % f\n",
    "\n",
    "for f in food:\n",
    "    prob2 += food_vars[f] >= 0.1 * choice_vars[f], \"min serving size, %s\" % f"
   ]
  },
  {
   "cell_type": "code",
   "execution_count": 21,
   "metadata": {},
   "outputs": [],
   "source": [
    "# b constraint\n",
    "# Limit these foods to one or none\n",
    "prob2 += choice_vars[\"Frozen Broccoli\"] + choice_vars[\"Celery, Raw\"] <= 1, \"b\""
   ]
  },
  {
   "cell_type": "code",
   "execution_count": 22,
   "metadata": {},
   "outputs": [],
   "source": [
    "# Reviewing the different foods to see what may be classified as meat/poultry/fish/eggs.\n",
    "# food"
   ]
  },
  {
   "cell_type": "code",
   "execution_count": 23,
   "metadata": {},
   "outputs": [],
   "source": [
    "# c constraint\n",
    "prob2 += (choice_vars[\"Roasted Chicken\"] +\n",
    "          choice_vars[\"Poached Eggs\"] +\n",
    "          choice_vars[\"Scrambled Eggs\"] +\n",
    "          choice_vars[\"Bologna,Turkey\"] +\n",
    "          choice_vars[\"Frankfurter, Beef\"] +\n",
    "          choice_vars[\"Ham,Sliced,Extralean\"] +\n",
    "          choice_vars[\"Kielbasa,Prk\"] +\n",
    "          choice_vars[\"Pizza W/Pepperoni\"] +\n",
    "          choice_vars[\"Hamburger W/Toppings\"] +\n",
    "          choice_vars[\"Hotdog, Plain\"] +\n",
    "          choice_vars[\"Pork\"] +\n",
    "          choice_vars[\"Sardines in Oil\"] +\n",
    "          # choice_vars[\"White Tuna in Water\"] +\n",
    "          # choice_vars[\"Chicknoodl Soup\"] +\n",
    "          # choice_vars[\"Splt Pea&Hamsoup\"] +\n",
    "          # choice_vars[\"Vegetbeef Soup\"] +\n",
    "          # choice_vars[\"Beanbacn Soup,W/Watr\"]) >= 3, \"c\"\n",
    "          choice_vars[\"White Tuna in Water\"]) >= 3, \"c\""
   ]
  },
  {
   "cell_type": "code",
   "execution_count": 24,
   "metadata": {},
   "outputs": [
    {
     "data": {
      "text/plain": [
       "1"
      ]
     },
     "execution_count": 24,
     "metadata": {},
     "output_type": "execute_result"
    }
   ],
   "source": [
    "prob2.solve()"
   ]
  },
  {
   "cell_type": "code",
   "execution_count": 25,
   "metadata": {},
   "outputs": [],
   "source": [
    "# print(\"status:\", LpStatus[prob2.status])"
   ]
  },
  {
   "cell_type": "code",
   "execution_count": 26,
   "metadata": {},
   "outputs": [
    {
     "name": "stdout",
     "output_type": "stream",
     "text": [
      "42.40 units of Celery,_Raw\n",
      "0.10 units of Kielbasa,Prk\n",
      "82.80 units of Lettuce,Iceberg,Raw\n",
      "3.08 units of Oranges\n",
      "1.94 units of Peanut_Butter\n",
      "0.10 units of Poached_Eggs\n",
      "13.22 units of Popcorn,Air_Popped\n",
      "0.10 units of Scrambled_Eggs\n"
     ]
    }
   ],
   "source": [
    "for var in prob2.variables():\n",
    "    # Ignore the indicator variables.\n",
    "    if var.varValue > 0 and var.varValue != 1:\n",
    "        print(\"%.2f units of %s\" %\n",
    "              (var.varValue, str(var).replace(\"food_\", \"\")))"
   ]
  },
  {
   "cell_type": "markdown",
   "metadata": {},
   "source": [
    "Note that 1 of celery and broccoli is chosen, and that at least 3 meat/poultry/fish/eggs items are selected (`Kielbasa,Prk`, `Poached_Eggs`, and `Scrambled_Eggs`), according to our specifications. Additionally, we can verify that each of the final items have a serving size of at least 0.1."
   ]
  },
  {
   "cell_type": "code",
   "execution_count": 27,
   "metadata": {},
   "outputs": [
    {
     "name": "stdout",
     "output_type": "stream",
     "text": [
      "total cost per person = $4.51\n"
     ]
    }
   ],
   "source": [
    "print(\"total cost per person = $%.2f\" % value(prob2.objective))"
   ]
  },
  {
   "cell_type": "markdown",
   "metadata": {
    "collapsed": true
   },
   "source": [
    "Note that the objective function value (i.e. total cost) is slightly higher here than that found in part 1. This is to be expected when additional constraints are added."
   ]
  },
  {
   "cell_type": "markdown",
   "metadata": {},
   "source": [
    "### Part 2, Large Data Set"
   ]
  },
  {
   "cell_type": "markdown",
   "metadata": {},
   "source": [
    "Now, as a final exercise, let's (try to) re-implement the part 2 set-up for the large data set. The major difference with this set-up is that minimizing cholesterol (not cost) is the goal. (In fact, cost is not even provided with the data set.)\n",
    "\n",
    "Additionally, in terms of implementation, I do not hard-code the maximum and minimum values here. Instead, I create dictionaries for each set of limits and iterate over them when calling `lpSum()`\n",
    "in the problem set-up."
   ]
  },
  {
   "cell_type": "code",
   "execution_count": 28,
   "metadata": {},
   "outputs": [],
   "source": [
    "path_data_large = os.path.join(\"..\", \"data-raw\", \"diet_largeSummer2018.xls\")"
   ]
  },
  {
   "cell_type": "code",
   "execution_count": 29,
   "metadata": {},
   "outputs": [],
   "source": [
    "df_large_raw = pd.read_excel(path_data_large, skiprows=1, header=0)"
   ]
  },
  {
   "cell_type": "code",
   "execution_count": 30,
   "metadata": {},
   "outputs": [
    {
     "data": {
      "text/html": [
       "<div>\n",
       "<style scoped>\n",
       "    .dataframe tbody tr th:only-of-type {\n",
       "        vertical-align: middle;\n",
       "    }\n",
       "\n",
       "    .dataframe tbody tr th {\n",
       "        vertical-align: top;\n",
       "    }\n",
       "\n",
       "    .dataframe thead th {\n",
       "        text-align: right;\n",
       "    }\n",
       "</style>\n",
       "<table border=\"1\" class=\"dataframe\">\n",
       "  <thead>\n",
       "    <tr style=\"text-align: right;\">\n",
       "      <th></th>\n",
       "      <th>Long_Desc</th>\n",
       "      <th>Protein</th>\n",
       "      <th>Carbohydrate, by difference</th>\n",
       "      <th>Energy</th>\n",
       "      <th>Water</th>\n",
       "      <th>Energy.1</th>\n",
       "      <th>Calcium, Ca</th>\n",
       "      <th>Iron, Fe</th>\n",
       "      <th>Magnesium, Mg</th>\n",
       "      <th>Phosphorus, P</th>\n",
       "      <th>...</th>\n",
       "      <th>Riboflavin</th>\n",
       "      <th>Niacin</th>\n",
       "      <th>Pantothenic acid</th>\n",
       "      <th>Vitamin B-6</th>\n",
       "      <th>Folate, total</th>\n",
       "      <th>Vitamin B-12</th>\n",
       "      <th>Vitamin K (phylloquinone)</th>\n",
       "      <th>Cholesterol</th>\n",
       "      <th>Fatty acids, total trans</th>\n",
       "      <th>Fatty acids, total saturated</th>\n",
       "    </tr>\n",
       "  </thead>\n",
       "  <tbody>\n",
       "    <tr>\n",
       "      <th>0</th>\n",
       "      <td>Butter, salted</td>\n",
       "      <td>0.85</td>\n",
       "      <td>0.06</td>\n",
       "      <td>717</td>\n",
       "      <td>15.87</td>\n",
       "      <td>3000.0</td>\n",
       "      <td>24</td>\n",
       "      <td>0.02</td>\n",
       "      <td>2</td>\n",
       "      <td>24</td>\n",
       "      <td>...</td>\n",
       "      <td>0.034</td>\n",
       "      <td>0.042</td>\n",
       "      <td>0.11</td>\n",
       "      <td>0.003</td>\n",
       "      <td>3</td>\n",
       "      <td>0.17</td>\n",
       "      <td>7</td>\n",
       "      <td>215.0</td>\n",
       "      <td>NaN</td>\n",
       "      <td>51.368</td>\n",
       "    </tr>\n",
       "    <tr>\n",
       "      <th>1</th>\n",
       "      <td>Butter, whipped, with salt</td>\n",
       "      <td>0.85</td>\n",
       "      <td>0.06</td>\n",
       "      <td>717</td>\n",
       "      <td>15.87</td>\n",
       "      <td>2999.0</td>\n",
       "      <td>24</td>\n",
       "      <td>0.16</td>\n",
       "      <td>2</td>\n",
       "      <td>23</td>\n",
       "      <td>...</td>\n",
       "      <td>0.034</td>\n",
       "      <td>0.042</td>\n",
       "      <td>0.11</td>\n",
       "      <td>0.003</td>\n",
       "      <td>3</td>\n",
       "      <td>0.13</td>\n",
       "      <td>7</td>\n",
       "      <td>219.0</td>\n",
       "      <td>NaN</td>\n",
       "      <td>50.489</td>\n",
       "    </tr>\n",
       "    <tr>\n",
       "      <th>2</th>\n",
       "      <td>Butter oil, anhydrous</td>\n",
       "      <td>0.28</td>\n",
       "      <td>0</td>\n",
       "      <td>876</td>\n",
       "      <td>0.24</td>\n",
       "      <td>3665.0</td>\n",
       "      <td>4</td>\n",
       "      <td>0</td>\n",
       "      <td>0</td>\n",
       "      <td>3</td>\n",
       "      <td>...</td>\n",
       "      <td>0.005</td>\n",
       "      <td>0.003</td>\n",
       "      <td>0.01</td>\n",
       "      <td>0.001</td>\n",
       "      <td>0</td>\n",
       "      <td>0.01</td>\n",
       "      <td>8.6</td>\n",
       "      <td>256.0</td>\n",
       "      <td>NaN</td>\n",
       "      <td>61.924</td>\n",
       "    </tr>\n",
       "    <tr>\n",
       "      <th>3</th>\n",
       "      <td>Cheese, blue</td>\n",
       "      <td>21.4</td>\n",
       "      <td>2.34</td>\n",
       "      <td>353</td>\n",
       "      <td>42.41</td>\n",
       "      <td>1477.0</td>\n",
       "      <td>528</td>\n",
       "      <td>0.31</td>\n",
       "      <td>23</td>\n",
       "      <td>387</td>\n",
       "      <td>...</td>\n",
       "      <td>0.382</td>\n",
       "      <td>1.016</td>\n",
       "      <td>1.729</td>\n",
       "      <td>0.166</td>\n",
       "      <td>36</td>\n",
       "      <td>1.22</td>\n",
       "      <td>2.4</td>\n",
       "      <td>75.0</td>\n",
       "      <td>NaN</td>\n",
       "      <td>18.669</td>\n",
       "    </tr>\n",
       "    <tr>\n",
       "      <th>4</th>\n",
       "      <td>Cheese, brick</td>\n",
       "      <td>23.24</td>\n",
       "      <td>2.79</td>\n",
       "      <td>371</td>\n",
       "      <td>41.11</td>\n",
       "      <td>1552.0</td>\n",
       "      <td>674</td>\n",
       "      <td>0.43</td>\n",
       "      <td>24</td>\n",
       "      <td>451</td>\n",
       "      <td>...</td>\n",
       "      <td>0.351</td>\n",
       "      <td>0.118</td>\n",
       "      <td>0.288</td>\n",
       "      <td>0.065</td>\n",
       "      <td>20</td>\n",
       "      <td>1.26</td>\n",
       "      <td>2.5</td>\n",
       "      <td>94.0</td>\n",
       "      <td>NaN</td>\n",
       "      <td>18.764</td>\n",
       "    </tr>\n",
       "  </tbody>\n",
       "</table>\n",
       "<p>5 rows × 31 columns</p>\n",
       "</div>"
      ],
      "text/plain": [
       "                    Long_Desc Protein Carbohydrate, by difference Energy  \\\n",
       "0              Butter, salted    0.85                        0.06    717   \n",
       "1  Butter, whipped, with salt    0.85                        0.06    717   \n",
       "2       Butter oil, anhydrous    0.28                           0    876   \n",
       "3                Cheese, blue    21.4                        2.34    353   \n",
       "4               Cheese, brick   23.24                        2.79    371   \n",
       "\n",
       "   Water  Energy.1 Calcium, Ca Iron, Fe Magnesium, Mg Phosphorus, P  \\\n",
       "0  15.87    3000.0          24     0.02             2            24   \n",
       "1  15.87    2999.0          24     0.16             2            23   \n",
       "2   0.24    3665.0           4        0             0             3   \n",
       "3  42.41    1477.0         528     0.31            23           387   \n",
       "4  41.11    1552.0         674     0.43            24           451   \n",
       "\n",
       "              ...              Riboflavin Niacin Pantothenic acid Vitamin B-6  \\\n",
       "0             ...                   0.034  0.042             0.11       0.003   \n",
       "1             ...                   0.034  0.042             0.11       0.003   \n",
       "2             ...                   0.005  0.003             0.01       0.001   \n",
       "3             ...                   0.382  1.016            1.729       0.166   \n",
       "4             ...                   0.351  0.118            0.288       0.065   \n",
       "\n",
       "  Folate, total Vitamin B-12 Vitamin K (phylloquinone) Cholesterol  \\\n",
       "0             3         0.17                         7       215.0   \n",
       "1             3         0.13                         7       219.0   \n",
       "2             0         0.01                       8.6       256.0   \n",
       "3            36         1.22                       2.4        75.0   \n",
       "4            20         1.26                       2.5        94.0   \n",
       "\n",
       "  Fatty acids, total trans Fatty acids, total saturated  \n",
       "0                      NaN                       51.368  \n",
       "1                      NaN                       50.489  \n",
       "2                      NaN                       61.924  \n",
       "3                      NaN                       18.669  \n",
       "4                      NaN                       18.764  \n",
       "\n",
       "[5 rows x 31 columns]"
      ]
     },
     "execution_count": 30,
     "metadata": {},
     "output_type": "execute_result"
    }
   ],
   "source": [
    "# Removing the constraint rows.\n",
    "df_large = df_large_raw[:-4]\n",
    "\n",
    "# Reviewing what the data looks like.\n",
    "df_large.head()"
   ]
  },
  {
   "cell_type": "code",
   "execution_count": 31,
   "metadata": {},
   "outputs": [],
   "source": [
    "# df_large.tail()"
   ]
  },
  {
   "cell_type": "code",
   "execution_count": 32,
   "metadata": {},
   "outputs": [
    {
     "name": "stdout",
     "output_type": "stream",
     "text": [
      "<class 'pandas.core.frame.DataFrame'>\n",
      "RangeIndex: 7146 entries, 0 to 7145\n",
      "Data columns (total 31 columns):\n",
      "Long_Desc                         7146 non-null object\n",
      "Protein                           7146 non-null object\n",
      "Carbohydrate, by difference       7146 non-null object\n",
      "Energy                            7146 non-null object\n",
      "Water                             7142 non-null object\n",
      "Energy.1                          7146 non-null float64\n",
      "Calcium, Ca                       6983 non-null object\n",
      "Iron, Fe                          7016 non-null object\n",
      "Magnesium, Mg                     6632 non-null object\n",
      "Phosphorus, P                     6733 non-null object\n",
      "Potassium, K                      6788 non-null object\n",
      "Sodium, Na                        7063 non-null object\n",
      "Zinc, Zn                          6607 non-null object\n",
      "Copper, Cu                        6545 non-null object\n",
      "Manganese, Mn                     5732 non-null object\n",
      "Selenium, Se                      5882 non-null object\n",
      "Vitamin A, RAE                    6196 non-null object\n",
      "Vitamin E (alpha-tocopherol)      3995 non-null object\n",
      "Vitamin D                         478 non-null object\n",
      "Vitamin C, total ascorbic acid    6812 non-null object\n",
      "Thiamin                           6700 non-null object\n",
      "Riboflavin                        6702 non-null object\n",
      "Niacin                            6697 non-null object\n",
      "Pantothenic acid                  5906 non-null object\n",
      "Vitamin B-6                       6464 non-null object\n",
      "Folate, total                     6447 non-null object\n",
      "Vitamin B-12                      6435 non-null object\n",
      "Vitamin K (phylloquinone)         3644 non-null object\n",
      "Cholesterol                       6902 non-null float64\n",
      "Fatty acids, total trans          481 non-null float64\n",
      "Fatty acids, total saturated      6852 non-null float64\n",
      "dtypes: float64(4), object(27)\n",
      "memory usage: 1.7+ MB\n"
     ]
    }
   ],
   "source": [
    "# Note that there are NA values that need to be removed in order for the optimization to work.\n",
    "df_large.info()"
   ]
  },
  {
   "cell_type": "code",
   "execution_count": 33,
   "metadata": {},
   "outputs": [
    {
     "data": {
      "text/plain": [
       "31962"
      ]
     },
     "execution_count": 33,
     "metadata": {},
     "output_type": "execute_result"
    }
   ],
   "source": [
    "# Reviewing how many NAs there are.\n",
    "df_large.isnull().sum().sum()"
   ]
  },
  {
   "cell_type": "code",
   "execution_count": 34,
   "metadata": {},
   "outputs": [
    {
     "name": "stderr",
     "output_type": "stream",
     "text": [
      "C:\\Users\\aelhabr\\Anaconda3\\lib\\site-packages\\pandas\\core\\frame.py:3787: SettingWithCopyWarning: \n",
      "A value is trying to be set on a copy of a slice from a DataFrame\n",
      "\n",
      "See the caveats in the documentation: http://pandas.pydata.org/pandas-docs/stable/indexing.html#indexing-view-versus-copy\n",
      "  downcast=downcast, **kwargs)\n"
     ]
    }
   ],
   "source": [
    "df_large.fillna(value=0.0, inplace=True)\n",
    "\n",
    "# Checking that the NAs were corrected.\n",
    "# df_large.isnull().sum().sum()"
   ]
  },
  {
   "cell_type": "code",
   "execution_count": 35,
   "metadata": {},
   "outputs": [],
   "source": [
    "# Subsetting to create a constraints `DataFrame`.\n",
    "constr = df_large_raw[-3:]\n",
    "constr = constr.iloc[[0, 2], ].drop(\n",
    "    [\"Long_Desc\", \"Cholesterol\", \"Fatty acids, total trans\", \"Fatty acids, total saturated\"], axis=\"columns\")\n",
    "# constr"
   ]
  },
  {
   "cell_type": "code",
   "execution_count": 36,
   "metadata": {},
   "outputs": [
    {
     "data": {
      "text/plain": [
       "{'Calcium, Ca': 2500,\n",
       " 'Carbohydrate, by difference': 1000000,\n",
       " 'Copper, Cu': 10,\n",
       " 'Energy': 1000000,\n",
       " 'Energy.1': 1000000.0,\n",
       " 'Folate, total': 1000,\n",
       " 'Iron, Fe': 45,\n",
       " 'Magnesium, Mg': 400,\n",
       " 'Manganese, Mn': 11,\n",
       " 'Niacin': 35,\n",
       " 'Pantothenic acid': 1000000,\n",
       " 'Phosphorus, P': 4000,\n",
       " 'Potassium, K': 1000000,\n",
       " 'Protein': 1000000,\n",
       " 'Riboflavin': 1000000,\n",
       " 'Selenium, Se': 400,\n",
       " 'Sodium, Na': 2300,\n",
       " 'Thiamin': 1000000,\n",
       " 'Vitamin A, RAE': 3000,\n",
       " 'Vitamin B-12': 1000000,\n",
       " 'Vitamin B-6': 100,\n",
       " 'Vitamin C, total ascorbic acid': 2000,\n",
       " 'Vitamin D': 2000,\n",
       " 'Vitamin E (alpha-tocopherol)': 1000,\n",
       " 'Vitamin K (phylloquinone)': 1000000,\n",
       " 'Water': 1000000,\n",
       " 'Zinc, Zn': 40}"
      ]
     },
     "execution_count": 36,
     "metadata": {},
     "output_type": "execute_result"
    }
   ],
   "source": [
    "# Coercing the constraints to `dict`s.\n",
    "constr_min = constr.to_dict(orient=\"records\")[0]\n",
    "constr_max = constr.to_dict(orient=\"records\")[1]\n",
    "\n",
    "# Reviewing one set of constraint values.\n",
    "constr_max"
   ]
  },
  {
   "cell_type": "code",
   "execution_count": 37,
   "metadata": {},
   "outputs": [],
   "source": [
    "# Creating the `list`/`dict` for the reference variables.\n",
    "food_large = df_large[\"Long_Desc\"].tolist()\n",
    "chol_large = pd.Series(\n",
    "    df_large[\"Cholesterol\"].values, index=df_large[\"Long_Desc\"]).to_dict()"
   ]
  },
  {
   "cell_type": "code",
   "execution_count": 38,
   "metadata": {},
   "outputs": [
    {
     "data": {
      "text/plain": [
       "['Butter, salted',\n",
       " 'Butter, whipped, with salt',\n",
       " 'Butter oil, anhydrous',\n",
       " 'Cheese, blue',\n",
       " 'Cheese, brick']"
      ]
     },
     "execution_count": 38,
     "metadata": {},
     "output_type": "execute_result"
    }
   ],
   "source": [
    "# Reviewing the reference variables.\n",
    "food_large[:5]"
   ]
  },
  {
   "cell_type": "code",
   "execution_count": 39,
   "metadata": {},
   "outputs": [
    {
     "data": {
      "text/plain": [
       "{'Carbonated beverage, SPRITE, lemon-lime, without caffeine': 0.0,\n",
       " 'Cereals, QUAKER, corn grits, instant, butter flavor, dry': 1.0,\n",
       " 'Lamb, domestic, leg, sirloin half, separable lean only, trimmed': 92.0,\n",
       " 'Milk, buttermilk, dried': 69.0,\n",
       " 'Soup, pea, green, mix, dehydrated, dry form': 1.0}"
      ]
     },
     "execution_count": 39,
     "metadata": {},
     "output_type": "execute_result"
    }
   ],
   "source": [
    "{k: chol_large[k] for k in list(chol_large)[:5]}"
   ]
  },
  {
   "cell_type": "code",
   "execution_count": 40,
   "metadata": {},
   "outputs": [],
   "source": [
    "# Setting up the optimization, in a similar manner as before.\n",
    "prob2_large = LpProblem(\"part 2 large\", LpMinimize)\n",
    "food_vars_large = LpVariable.dicts(\"food\", food_large, 0)\n",
    "prob2_large += lpSum([chol_large[i] * food_vars_large[i]\n",
    "                      for i in food_large]), \"total cholesterol of food per person\""
   ]
  },
  {
   "cell_type": "code",
   "execution_count": 41,
   "metadata": {},
   "outputs": [],
   "source": [
    "# Reviewing the columns that have constraints.\n",
    "# df_large.columns[1:28]"
   ]
  },
  {
   "cell_type": "code",
   "execution_count": 42,
   "metadata": {},
   "outputs": [],
   "source": [
    "# Creating the maximum/minimum limits. This takes a while to complete...\n",
    "for col in df_large.columns[1:28]:\n",
    "    # print(col)\n",
    "    # print(df_large[col].values[:5])\n",
    "    col_vals = pd.Series(df_large[col].values,\n",
    "                         index=df_large[\"Long_Desc\"]).to_dict()\n",
    "    # col_vals.head()\n",
    "    constr_min_i = constr_min[col]\n",
    "    constr_max_i = constr_max[col]\n",
    "    prob2_large += lpSum([col_vals[i] * food_vars_large[i]\n",
    "                          for i in food_large]) >= constr_min_i, \"\"\n",
    "    prob2_large += lpSum([col_vals[i] * food_vars_large[i]\n",
    "                          for i in food_large]) <= constr_max_i, \"\""
   ]
  },
  {
   "cell_type": "code",
   "execution_count": 43,
   "metadata": {},
   "outputs": [],
   "source": [
    "# Write it to a file for quick-reference later.\n",
    "# prob2_large.writeLP(\"prob2_large.lp\")"
   ]
  },
  {
   "cell_type": "code",
   "execution_count": 44,
   "metadata": {},
   "outputs": [
    {
     "data": {
      "text/plain": [
       "1"
      ]
     },
     "execution_count": 44,
     "metadata": {},
     "output_type": "execute_result"
    }
   ],
   "source": [
    "prob2_large.solve()"
   ]
  },
  {
   "cell_type": "code",
   "execution_count": 45,
   "metadata": {},
   "outputs": [
    {
     "name": "stdout",
     "output_type": "stream",
     "text": [
      "0.06 units of Beans,_adzuki,_mature_seeds,_raw\n",
      "0.07 units of Broccoli_raab,_raw\n",
      "0.43 units of Cocoa_mix,_no_sugar_added,_powder\n",
      "0.15 units of Egg,_white,_dried,_flakes,_glucose_reduced\n",
      "0.74 units of Infant_formula,_MEAD_JOHNSON,_ENFAMIL,_NUTRAMIGEN,_with_iron,_p\n",
      "0.43 units of Infant_formula,_NESTLE,_GOOD_START_ESSENTIALS__SOY,__with_iron,\n",
      "0.05 units of Infant_formula,_ROSS,_ISOMIL,_with_iron,_powder,_not_reconstitu\n",
      "0.15 units of Margarine_like_spread,_approximately_60%_fat,_tub,_soybean_(hyd\n",
      "0.26 units of Mung_beans,_mature_seeds,_raw\n",
      "0.18 units of Nuts,_mixed_nuts,_dry_roasted,_with_peanuts,_with_salt_added\n",
      "1.18 units of Oil,_vegetable,_sunflower,_linoleic,_(hydrogenated)\n",
      "0.10 units of Seeds,_sunflower_seed_kernels,_dry_roasted,_with_salt_added\n",
      "0.03 units of Snacks,_potato_chips,_fat_free,_made_with_olestra\n",
      "0.07 units of Spices,_paprika\n",
      "0.55 units of Tomatoes,_sun_dried\n",
      "9999.69 units of Water,_bottled,_non_carbonated,_CALISTOGA\n"
     ]
    }
   ],
   "source": [
    "for var in prob2_large.variables():\n",
    "    # Ignore the indicator variables.\n",
    "    if var.varValue > 0 and var.varValue != 1:\n",
    "        print(\"%.2f units of %s\" %\n",
    "              (var.varValue, str(var).replace(\"food_\", \"\")))"
   ]
  },
  {
   "cell_type": "code",
   "execution_count": 46,
   "metadata": {},
   "outputs": [
    {
     "name": "stdout",
     "output_type": "stream",
     "text": [
      "total cost = $0.00\n"
     ]
    }
   ],
   "source": [
    "print(\"total cost = $%.2f\" % value(prob2_large.objective))"
   ]
  },
  {
   "cell_type": "markdown",
   "metadata": {},
   "source": [
    "Unfortunately, although I get an \"optimal\" solution, it doesn't really appear to make sense--the total cost is `$0`. This seemingly erroneous solution may be due to the \"non-convexity\" of this problem. (The homework instructions note that there is not a single right answer to this problem.) Nonetheless, I believe my implementation is correct (or nearly correct)."
   ]
  }
 ],
 "metadata": {
  "kernelspec": {
   "display_name": "Python 3",
   "language": "python",
   "name": "python3"
  },
  "language_info": {
   "codemirror_mode": {
    "name": "ipython",
    "version": 3
   },
   "file_extension": ".py",
   "mimetype": "text/x-python",
   "name": "python",
   "nbconvert_exporter": "python",
   "pygments_lexer": "ipython3",
   "version": "3.5.5"
  },
  "varInspector": {
   "cols": {
    "lenName": 16,
    "lenType": 16,
    "lenVar": 40
   },
   "kernels_config": {
    "python": {
     "delete_cmd_postfix": "",
     "delete_cmd_prefix": "del ",
     "library": "var_list.py",
     "varRefreshCmd": "print(var_dic_list())"
    },
    "r": {
     "delete_cmd_postfix": ") ",
     "delete_cmd_prefix": "rm(",
     "library": "var_list.r",
     "varRefreshCmd": "cat(var_dic_list()) "
    }
   },
   "types_to_exclude": [
    "module",
    "function",
    "builtin_function_or_method",
    "instance",
    "_Feature"
   ],
   "window_display": false
  }
 },
 "nbformat": 4,
 "nbformat_minor": 2
}
